{
 "cells": [
  {
   "cell_type": "code",
   "execution_count": 1,
   "metadata": {
    "collapsed": true
   },
   "outputs": [],
   "source": [
    "# Read Freesurfer Features\n",
    "\n",
    "import os\n",
    "import numpy as np\n",
    "import nibabel as nb\n",
    "import pandas as pd\n",
    "\n",
    "\n",
    "def _vectorize_fs_surf(in_data_file):\n",
    "    img = nb.load(in_data_file)\n",
    "    in_data = img.get_data().squeeze()\n",
    "    vectorized_data = in_data[np.newaxis, ...]\n",
    "    assert vectorized_data.shape == (1, 2562), \"%s shape does not look right: %s\" % (in_data_file,\n",
    "                                                                                     vectorized_data.shape)\n",
    "\n",
    "    return vectorized_data\n",
    "\n",
    "def _vectorize_fs_tab(in_data_file):\n",
    "    df = pd.read_csv(in_data_file, index_col=0, delimiter='\\t')\n",
    "    vectorized_data = df.values\n",
    "    assert vectorized_data.shape == (1, 66), \"%s shape does not look right: %s\" % (in_data_file,\n",
    "                                                                                   vectorized_data.shape)\n",
    "    return vectorized_data\n",
    "\n",
    "def combine_surfs(lh_file, rh_file):\n",
    "    lh_data = _vectorize_fs_surf(lh_file)\n",
    "    rh_data = _vectorize_fs_surf(rh_file)\n",
    "    return np.concatenate((lh_data, rh_data), 1)\n",
    "\n",
    "def get_data(lh_thickness_file, rh_thickness_file, lh_area_file, rh_area_file, aseg_file):\n",
    "    X = {}\n",
    "    X[\"thickness\"] = combine_surfs(lh_thickness_file, rh_thickness_file)\n",
    "    X[\"area\"] = combine_surfs(lh_area_file, rh_area_file)\n",
    "    X[\"aseg\"] = _vectorize_fs_tab(aseg_file)\n",
    "    return (X)\n"
   ]
  },
  {
   "cell_type": "code",
   "execution_count": 3,
   "metadata": {
    "collapsed": false
   },
   "outputs": [],
   "source": [
    "# dummy subject\n",
    "\n",
    "folder = 'output//sub-meditation5107_ses-M1//data//'\n",
    "lh_thickness_file = os.path.join (folder, 'lh.thickness.mgh')\n",
    "rh_thickness_file = os.path.join (folder, 'rh.thickness.mgh')\n",
    "lh_area_file = os.path.join (folder, 'lh.area.mgh')\n",
    "rh_area_file = os.path.join (folder, 'rh.area.mgh')\n",
    "aseg_file = os.path.join (folder, 'aseg')\n",
    "\n",
    "data = get_data(lh_thickness_file, rh_thickness_file, lh_area_file, rh_area_file, aseg_file)"
   ]
  },
  {
   "cell_type": "code",
   "execution_count": 7,
   "metadata": {
    "collapsed": false
   },
   "outputs": [
    {
     "data": {
      "text/plain": [
       "{'area': array([[ 29.97456741,  20.01478577,  23.46330833, ...,  45.97300339,\n",
       "          42.44683075,  38.32165909]], dtype=float32),\n",
       " 'aseg': array([[  6.70090000e+03,   3.09400000e+02,   1.26348000e+04,\n",
       "           3.74084000e+04,   5.75190000e+03,   3.15570000e+03,\n",
       "           5.47820000e+03,   1.43620000e+03,   1.19370000e+03,\n",
       "           2.22040000e+03,   1.94151000e+04,   3.54220000e+03,\n",
       "           1.24860000e+03,   9.87500000e+02,   6.38600000e+02,\n",
       "           3.21270000e+03,   1.51500000e+02,   8.76900000e+02,\n",
       "           8.31530000e+03,   3.46200000e+02,   1.26639000e+04,\n",
       "           3.90395000e+04,   5.82530000e+03,   3.46970000e+03,\n",
       "           4.91720000e+03,   1.54480000e+03,   3.45130000e+03,\n",
       "           1.27570000e+03,   4.99400000e+02,   3.30060000e+03,\n",
       "           1.73600000e+02,   9.99400000e+02,   9.00000000e+00,\n",
       "           1.92230000e+03,   0.00000000e+00,   0.00000000e+00,\n",
       "           2.92700000e+02,   0.00000000e+00,   0.00000000e+00,\n",
       "           1.76000000e+02,   9.50400000e+02,   2.85000000e+02,\n",
       "           3.71300000e+02,   3.51300000e+02,   6.69900000e+02,\n",
       "           9.13338000e+05,   8.91989000e+05,   8.91882563e+05,\n",
       "           1.57634290e+05,   1.56051329e+05,   3.13685619e+05,\n",
       "           2.13827913e+05,   2.14114031e+05,   4.27941944e+05,\n",
       "           5.01080000e+04,   4.39325619e+05,   8.10577563e+05,\n",
       "           7.93281563e+05,   7.91816000e+05,   1.45339100e+06,\n",
       "           7.72810000e-01,   1.22976900e+00,   1.20000000e+01,\n",
       "           1.60000000e+01,   2.80000000e+01,   1.18184019e+06]]),\n",
       " 'thickness': array([[ 3.43988442,  2.57678556,  1.54902506, ...,  2.46194434,\n",
       "          1.1203934 ,  1.09600711]], dtype=float32)}"
      ]
     },
     "execution_count": 7,
     "metadata": {},
     "output_type": "execute_result"
    }
   ],
   "source": [
    "data"
   ]
  },
  {
   "cell_type": "code",
   "execution_count": null,
   "metadata": {
    "collapsed": true
   },
   "outputs": [],
   "source": []
  }
 ],
 "metadata": {
  "kernelspec": {
   "display_name": "Python 2",
   "language": "python",
   "name": "python2"
  },
  "language_info": {
   "codemirror_mode": {
    "name": "ipython",
    "version": 2
   },
   "file_extension": ".py",
   "mimetype": "text/x-python",
   "name": "python",
   "nbconvert_exporter": "python",
   "pygments_lexer": "ipython2",
   "version": "2.7.13"
  }
 },
 "nbformat": 4,
 "nbformat_minor": 2
}
