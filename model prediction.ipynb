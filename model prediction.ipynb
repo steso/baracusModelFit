{
 "cells": [
  {
   "cell_type": "code",
   "execution_count": 1,
   "metadata": {
    "collapsed": true
   },
   "outputs": [],
   "source": [
    "# imports & config\n",
    "\n",
    "import os\n",
    "import numpy as np\n",
    "import nibabel as nb\n",
    "import pandas as pd\n",
    "import glob\n",
    "\n",
    "output_folder = 'output'"
   ]
  },
  {
   "cell_type": "code",
   "execution_count": 2,
   "metadata": {
    "collapsed": true
   },
   "outputs": [],
   "source": [
    "# Read Freesurfer Features\n",
    "\n",
    "def _vectorize_fs_surf(in_data_file):\n",
    "    img = nb.load(in_data_file)\n",
    "    in_data = img.get_data().squeeze()\n",
    "    vectorized_data = in_data[np.newaxis, ...]\n",
    "    assert vectorized_data.shape == (1, 2562), \"%s shape does not look right: %s\" % (in_data_file,\n",
    "                                                                                     vectorized_data.shape)\n",
    "\n",
    "    return vectorized_data\n",
    "\n",
    "def _vectorize_fs_tab(in_data_file):\n",
    "    df = pd.read_csv(in_data_file, index_col=0, delimiter='\\t')\n",
    "    vectorized_data = df.values\n",
    "    assert vectorized_data.shape == (1, 66), \"%s shape does not look right: %s\" % (in_data_file,\n",
    "                                                                                   vectorized_data.shape)\n",
    "    return vectorized_data\n",
    "\n",
    "def combine_surfs(lh_file, rh_file):\n",
    "    lh_data = _vectorize_fs_surf(lh_file)\n",
    "    rh_data = _vectorize_fs_surf(rh_file)\n",
    "    return np.concatenate((lh_data, rh_data), 1)\n",
    "\n",
    "def get_data(lh_thickness_file, rh_thickness_file, lh_area_file, rh_area_file, aseg_file):\n",
    "    X = {}\n",
    "    X[\"thickness\"] = combine_surfs(lh_thickness_file, rh_thickness_file)\n",
    "    X[\"area\"] = combine_surfs(lh_area_file, rh_area_file)\n",
    "    X[\"aseg\"] = _vectorize_fs_tab(aseg_file)\n",
    "    return (X)\n"
   ]
  },
  {
   "cell_type": "code",
   "execution_count": 3,
   "metadata": {
    "collapsed": false
   },
   "outputs": [],
   "source": [
    "aseg_files = []\n",
    "lh_area_files = []\n",
    "rh_area_files = []\n",
    "lh_thickness_files = []\n",
    "rh_thickness_files = []\n",
    "\n",
    "for r,d,f in os.walk(output_folder):\n",
    "    for file in f:\n",
    "        if file.endswith('aseg') and not file.startswith('.'):\n",
    "            aseg_files.append(os.path.join(r, file))\n",
    "        if file.endswith('lh.area.mgh') and not file.startswith('.'):\n",
    "            lh_area_files.append(os.path.join(r, file))\n",
    "        if file.endswith('rh.area.mgh') and not file.startswith('.'):\n",
    "            rh_area_files.append(os.path.join(r, file))\n",
    "        if file.endswith('lh.thickness.mgh') and not file.startswith('.'):\n",
    "            lh_thickness_files.append(os.path.join(r, file))\n",
    "        if file.endswith('rh.thickness.mgh') and not file.startswith('.'):\n",
    "            rh_thickness_files.append(os.path.join(r, file))"
   ]
  },
  {
   "cell_type": "code",
   "execution_count": 4,
   "metadata": {
    "collapsed": false
   },
   "outputs": [],
   "source": [
    "# traverse subjects\n",
    "\n",
    "for i in range(len(aseg_files)):\n",
    "    subj_data = get_data(lh_thickness_files[i], rh_thickness_files[i], lh_area_files[i], rh_area_files[i], aseg_files[i])\n",
    "    if i==0:\n",
    "        X = subj_data\n",
    "    else:\n",
    "        for k in X.keys():\n",
    "            X[k] = np.concatenate((X[k], subj_data[k]))"
   ]
  },
  {
   "cell_type": "code",
   "execution_count": 5,
   "metadata": {
    "collapsed": true
   },
   "outputs": [],
   "source": [
    "# partition in training and test set\n",
    "\n",
    "# train model"
   ]
  }
 ],
 "metadata": {
  "kernelspec": {
   "display_name": "Python 2",
   "language": "python",
   "name": "python2"
  },
  "language_info": {
   "codemirror_mode": {
    "name": "ipython",
    "version": 2
   },
   "file_extension": ".py",
   "mimetype": "text/x-python",
   "name": "python",
   "nbconvert_exporter": "python",
   "pygments_lexer": "ipython2",
   "version": "2.7.13"
  }
 },
 "nbformat": 4,
 "nbformat_minor": 2
}
